{
 "cells": [
  {
   "cell_type": "code",
   "execution_count": 12,
   "metadata": {},
   "outputs": [],
   "source": [
    "import pandas as pd\n",
    "\n",
    "import os\n",
    "\n",
    "import warnings\n",
    "warnings.filterwarnings('ignore')"
   ]
  },
  {
   "cell_type": "markdown",
   "metadata": {},
   "source": [
    "**Februari 2019**\n",
    "\n",
    "Örjan fick idén att kolla upp i vilka kommuner där kommunen och landstingen är viktigaste arbetsgivare. Siffrorna kommer från SCB (RAMS, dvs registerdata) och vi valde att kolla i förhållande till nattbefolkningen, dvs de som är förvärvsarbetande och som bor i kommunen. [Tabellerna hittar man här!](http://www.statistikdatabasen.scb.se/pxweb/sv/ssd/START__AM__AM0207__AM0207J/NattSektAldK/?rxid=daebc44d-0582-4bee-8c56-ce4bde1f7e03)\n",
    "\n",
    "Det här måttet bör ses som ett någorlunda \"trubbigt\". Eftersom vi undersöker nattbefolkningen så kontrollerar vi hur många av de som bor i kommunen som jobbar i offentlig verksamhet (minus statliga myndigheter då). Men dessa boende kan i praktiken arbeta i en grannkommuns verksamhet under dagtid. Kommuner i storstadsområdena blir därför ganska ointressanta. Folk ifrån hela Storstockholmsområdet kan t ex arbeta på Nya Karolinska sjukhuset i Solna.\n",
    "\n",
    "Vi valde därför att endast fokusera på de som har ***högst andel*** som jobbar inom kommunal och regional verksamhet. Ifall man har en relativt hög andel boende i kommunen som arbetar för en kommun eller ett landsting så ringar det in det vi vill berätta om: hur viktig kommunala och regionala statsapparaten är som arbetsgivare i olika delar av landet. Omvänt, hur icke-viktig arbetsgivare statsapparaten är i somliga kommuner, så är detta mått inget bra.\n",
    "\n",
    "Resultatet publicerades i Dagens Samhälle nr 8 den 28 februari 2019. Artikeln finna [att läsa på webben här!](https://www.dagenssamhalle.se/nyhet/kommuner-som-lever-pa-offentlig-sektor-26466)"
   ]
  },
  {
   "cell_type": "code",
   "execution_count": 20,
   "metadata": {},
   "outputs": [],
   "source": [
    "df = pd.read_csv('data/kom_reg.csv',sep=',',encoding='iso-8859-10')"
   ]
  },
  {
   "cell_type": "code",
   "execution_count": 21,
   "metadata": {},
   "outputs": [],
   "source": [
    "df = pd.concat([pd.read_csv('data/samtliga.csv',encoding='iso-8859-10'),df]).fillna('totalt')"
   ]
  },
  {
   "cell_type": "code",
   "execution_count": 22,
   "metadata": {},
   "outputs": [],
   "source": [
    "df.columns = ['antal','vars','kommun']"
   ]
  },
  {
   "cell_type": "code",
   "execution_count": 23,
   "metadata": {},
   "outputs": [
    {
     "data": {
      "text/plain": [
       "array(['totalt', 'primärkommunal förvaltning', 'landsting',\n",
       "       'kommunalt ägda företag och organisationer'], dtype=object)"
      ]
     },
     "execution_count": 23,
     "metadata": {},
     "output_type": "execute_result"
    }
   ],
   "source": [
    "df.vars.unique()"
   ]
  },
  {
   "cell_type": "markdown",
   "metadata": {},
   "source": [
    "Ovan ser vi de variabler som vi valt att kika närmare på. Det är alltså de som jobbar inom \"primärkommunal förvaltning\", \"kommunlt ägda företag och organisationer\" samt \"landsting\" som vi väljer att se som lokal offentliganställning. Statliga tjänster har vi valt bort. Det här har också kollats med SCB, Sofia Löfgren (010-479 65 86) som står som kontaktperson till statistiken på RAMS. Hon framhöll att jag hade valt att fokusera på rätt saker! Här finns rapporten som förklarar sektorsindelningen: https://www.scb.se/contentassets/99af4dcf7296448db1386574e1aa6b9b/mis2014-1.pdf"
   ]
  },
  {
   "cell_type": "code",
   "execution_count": 24,
   "metadata": {},
   "outputs": [],
   "source": [
    "df.loc[df['vars']!='totalt','vars'] = 'offentliga'"
   ]
  },
  {
   "cell_type": "code",
   "execution_count": 25,
   "metadata": {},
   "outputs": [],
   "source": [
    "df = df.groupby(['kommun','vars']).sum()\\\n",
    "       .reset_index()\\\n",
    "       .pivot_table(index='kommun',\n",
    "                    columns='vars',\n",
    "                    values='antal')\\\n",
    "       .reset_index()"
   ]
  },
  {
   "cell_type": "code",
   "execution_count": 26,
   "metadata": {},
   "outputs": [],
   "source": [
    "df['andel_offentliganställda'] = ((df['offentliga']/df['totalt'])*100).round(1)"
   ]
  },
  {
   "cell_type": "code",
   "execution_count": 27,
   "metadata": {},
   "outputs": [],
   "source": [
    "df['kommun'] = df['kommun'].apply(lambda x: x[5:].strip())"
   ]
  },
  {
   "cell_type": "code",
   "execution_count": 28,
   "metadata": {},
   "outputs": [],
   "source": [
    "if not os.path.isdir('res'):\n",
    "    os.makedirs('res')"
   ]
  },
  {
   "cell_type": "code",
   "execution_count": 29,
   "metadata": {},
   "outputs": [],
   "source": [
    "df.sort_values('andel_offentliganställda',\n",
    "               ascending=False)\\\n",
    "  .reset_index(drop=True)\\\n",
    "  .to_excel('res/andel_offtl_anställda_2017.xlsx',\n",
    "            index=False)"
   ]
  },
  {
   "cell_type": "code",
   "execution_count": 30,
   "metadata": {},
   "outputs": [
    {
     "data": {
      "text/html": [
       "<div>\n",
       "<style scoped>\n",
       "    .dataframe tbody tr th:only-of-type {\n",
       "        vertical-align: middle;\n",
       "    }\n",
       "\n",
       "    .dataframe tbody tr th {\n",
       "        vertical-align: top;\n",
       "    }\n",
       "\n",
       "    .dataframe thead th {\n",
       "        text-align: right;\n",
       "    }\n",
       "</style>\n",
       "<table border=\"1\" class=\"dataframe\">\n",
       "  <thead>\n",
       "    <tr style=\"text-align: right;\">\n",
       "      <th>vars</th>\n",
       "      <th>kommun</th>\n",
       "      <th>offentliga</th>\n",
       "      <th>totalt</th>\n",
       "      <th>andel_offentliganställda</th>\n",
       "    </tr>\n",
       "  </thead>\n",
       "  <tbody>\n",
       "    <tr>\n",
       "      <th>18</th>\n",
       "      <td>Nacka</td>\n",
       "      <td>6808</td>\n",
       "      <td>51040</td>\n",
       "      <td>13.3</td>\n",
       "    </tr>\n",
       "    <tr>\n",
       "      <th>20</th>\n",
       "      <td>Solna</td>\n",
       "      <td>5815</td>\n",
       "      <td>44035</td>\n",
       "      <td>13.2</td>\n",
       "    </tr>\n",
       "    <tr>\n",
       "      <th>21</th>\n",
       "      <td>Lidingö</td>\n",
       "      <td>2870</td>\n",
       "      <td>22315</td>\n",
       "      <td>12.9</td>\n",
       "    </tr>\n",
       "    <tr>\n",
       "      <th>13</th>\n",
       "      <td>Täby</td>\n",
       "      <td>3953</td>\n",
       "      <td>34759</td>\n",
       "      <td>11.4</td>\n",
       "    </tr>\n",
       "    <tr>\n",
       "      <th>14</th>\n",
       "      <td>Danderyd</td>\n",
       "      <td>1563</td>\n",
       "      <td>15050</td>\n",
       "      <td>10.4</td>\n",
       "    </tr>\n",
       "  </tbody>\n",
       "</table>\n",
       "</div>"
      ],
      "text/plain": [
       "vars    kommun  offentliga  totalt  andel_offentliganställda\n",
       "18       Nacka        6808   51040                      13.3\n",
       "20       Solna        5815   44035                      13.2\n",
       "21     Lidingö        2870   22315                      12.9\n",
       "13        Täby        3953   34759                      11.4\n",
       "14    Danderyd        1563   15050                      10.4"
      ]
     },
     "execution_count": 30,
     "metadata": {},
     "output_type": "execute_result"
    }
   ],
   "source": [
    "df.sort_values('andel_offentliganställda',ascending=False).tail()"
   ]
  },
  {
   "cell_type": "markdown",
   "metadata": {},
   "source": [
    "Ovan ser vi exempel på att Stockholmskommuner alla kommer i botten av lista. Vi valde att inte publicera dessa."
   ]
  },
  {
   "cell_type": "markdown",
   "metadata": {},
   "source": [
    "### Flera år"
   ]
  },
  {
   "cell_type": "markdown",
   "metadata": {},
   "source": [
    "Här kommer en funktion som gör det samma som ovan, fast vi kan själv välja vilket år vi vill kolla på (finns 2008-2017). Används nedan för att se ifall förändringen över tid är anmärkningsvärd. Men tycker nog inte den va det.."
   ]
  },
  {
   "cell_type": "code",
   "execution_count": 16,
   "metadata": {},
   "outputs": [],
   "source": [
    "def formatter(year):\n",
    "    \n",
    "    df = pd.read_csv('data/of_allaår.csv',sep=',',encoding='iso-8859-10')\n",
    "    df = df.loc[df['år']==year]\n",
    "    tmp = pd.read_csv('data/totalt_allaår.csv',encoding='iso-8859-10')\n",
    "    tmp = tmp.loc[tmp['år']==year]\n",
    "    \n",
    "    df = pd.concat([tmp,df]).fillna('totalt').drop('år',axis=1)\n",
    "    \n",
    "    df.columns = ['antal','vars','kommun']\n",
    "    \n",
    "    df.loc[df['vars']!='totalt','vars'] = 'offentliga'\n",
    "    \n",
    "    df = df.groupby(['kommun','vars']).sum()\\\n",
    "            .reset_index()\\\n",
    "            .pivot_table(index='kommun',\n",
    "                         columns='vars',\n",
    "                         values='antal').reset_index()\n",
    "    \n",
    "    df[f'andel_offentliganställda_{year}'] = ((df['offentliga']/df['totalt'])*100).round(1)\n",
    "    \n",
    "    df['kommun'] = df['kommun'].apply(lambda x: x[5:].strip())\n",
    "    \n",
    "    return df[['kommun',f'andel_offentliganställda_{year}']]"
   ]
  },
  {
   "cell_type": "code",
   "execution_count": 34,
   "metadata": {},
   "outputs": [
    {
     "data": {
      "text/html": [
       "<div>\n",
       "<style scoped>\n",
       "    .dataframe tbody tr th:only-of-type {\n",
       "        vertical-align: middle;\n",
       "    }\n",
       "\n",
       "    .dataframe tbody tr th {\n",
       "        vertical-align: top;\n",
       "    }\n",
       "\n",
       "    .dataframe thead th {\n",
       "        text-align: right;\n",
       "    }\n",
       "</style>\n",
       "<table border=\"1\" class=\"dataframe\">\n",
       "  <thead>\n",
       "    <tr style=\"text-align: right;\">\n",
       "      <th>vars</th>\n",
       "      <th>kommun</th>\n",
       "      <th>andel_offentliganställda_2017</th>\n",
       "    </tr>\n",
       "  </thead>\n",
       "  <tbody>\n",
       "    <tr>\n",
       "      <th>0</th>\n",
       "      <td>Upplands Väsby</td>\n",
       "      <td>14.5</td>\n",
       "    </tr>\n",
       "    <tr>\n",
       "      <th>1</th>\n",
       "      <td>Vallentuna</td>\n",
       "      <td>15.8</td>\n",
       "    </tr>\n",
       "    <tr>\n",
       "      <th>2</th>\n",
       "      <td>Österåker</td>\n",
       "      <td>15.5</td>\n",
       "    </tr>\n",
       "    <tr>\n",
       "      <th>3</th>\n",
       "      <td>Värmdö</td>\n",
       "      <td>16.7</td>\n",
       "    </tr>\n",
       "    <tr>\n",
       "      <th>4</th>\n",
       "      <td>Järfälla</td>\n",
       "      <td>18.8</td>\n",
       "    </tr>\n",
       "  </tbody>\n",
       "</table>\n",
       "</div>"
      ],
      "text/plain": [
       "vars          kommun  andel_offentliganställda_2017\n",
       "0     Upplands Väsby                           14.5\n",
       "1         Vallentuna                           15.8\n",
       "2          Österåker                           15.5\n",
       "3             Värmdö                           16.7\n",
       "4           Järfälla                           18.8"
      ]
     },
     "execution_count": 34,
     "metadata": {},
     "output_type": "execute_result"
    }
   ],
   "source": [
    "formatter(2017).head()"
   ]
  },
  {
   "cell_type": "code",
   "execution_count": 17,
   "metadata": {},
   "outputs": [],
   "source": [
    "df = formatter(2017).merge(formatter(2008),on='kommun',how='left')"
   ]
  },
  {
   "cell_type": "code",
   "execution_count": 18,
   "metadata": {},
   "outputs": [],
   "source": [
    "df['utv'] = df['andel_offentliganställda_2017']-df['andel_offentliganställda_2008']"
   ]
  },
  {
   "cell_type": "code",
   "execution_count": 19,
   "metadata": {},
   "outputs": [
    {
     "data": {
      "text/html": [
       "<div>\n",
       "<style scoped>\n",
       "    .dataframe tbody tr th:only-of-type {\n",
       "        vertical-align: middle;\n",
       "    }\n",
       "\n",
       "    .dataframe tbody tr th {\n",
       "        vertical-align: top;\n",
       "    }\n",
       "\n",
       "    .dataframe thead th {\n",
       "        text-align: right;\n",
       "    }\n",
       "</style>\n",
       "<table border=\"1\" class=\"dataframe\">\n",
       "  <thead>\n",
       "    <tr style=\"text-align: right;\">\n",
       "      <th>vars</th>\n",
       "      <th>kommun</th>\n",
       "      <th>andel_offentliganställda_2017</th>\n",
       "      <th>andel_offentliganställda_2008</th>\n",
       "      <th>utv</th>\n",
       "    </tr>\n",
       "  </thead>\n",
       "  <tbody>\n",
       "    <tr>\n",
       "      <th>274</th>\n",
       "      <td>Lycksele</td>\n",
       "      <td>41.9</td>\n",
       "      <td>43.2</td>\n",
       "      <td>-1.3</td>\n",
       "    </tr>\n",
       "    <tr>\n",
       "      <th>279</th>\n",
       "      <td>Överkalix</td>\n",
       "      <td>38.8</td>\n",
       "      <td>39.7</td>\n",
       "      <td>-0.9</td>\n",
       "    </tr>\n",
       "    <tr>\n",
       "      <th>67</th>\n",
       "      <td>Eksjö</td>\n",
       "      <td>38.4</td>\n",
       "      <td>36.5</td>\n",
       "      <td>1.9</td>\n",
       "    </tr>\n",
       "    <tr>\n",
       "      <th>272</th>\n",
       "      <td>Åsele</td>\n",
       "      <td>37.9</td>\n",
       "      <td>40.3</td>\n",
       "      <td>-2.4</td>\n",
       "    </tr>\n",
       "    <tr>\n",
       "      <th>271</th>\n",
       "      <td>Vilhelmina</td>\n",
       "      <td>37.4</td>\n",
       "      <td>37.9</td>\n",
       "      <td>-0.5</td>\n",
       "    </tr>\n",
       "  </tbody>\n",
       "</table>\n",
       "</div>"
      ],
      "text/plain": [
       "vars      kommun  andel_offentliganställda_2017  \\\n",
       "274     Lycksele                           41.9   \n",
       "279    Överkalix                           38.8   \n",
       "67         Eksjö                           38.4   \n",
       "272        Åsele                           37.9   \n",
       "271   Vilhelmina                           37.4   \n",
       "\n",
       "vars  andel_offentliganställda_2008  utv  \n",
       "274                            43.2 -1.3  \n",
       "279                            39.7 -0.9  \n",
       "67                             36.5  1.9  \n",
       "272                            40.3 -2.4  \n",
       "271                            37.9 -0.5  "
      ]
     },
     "execution_count": 19,
     "metadata": {},
     "output_type": "execute_result"
    }
   ],
   "source": [
    "df.sort_values('andel_offentliganställda_2017',ascending=False).head()"
   ]
  },
  {
   "cell_type": "markdown",
   "metadata": {},
   "source": [
    "Vi tyckte att utvecklingen inte var särskilt anmärkningsvärd och struntade därför i detta i publiceringen. Vinkeln blev rak: var är det störst andel idag?"
   ]
  },
  {
   "cell_type": "code",
   "execution_count": null,
   "metadata": {},
   "outputs": [],
   "source": []
  },
  {
   "cell_type": "code",
   "execution_count": null,
   "metadata": {},
   "outputs": [],
   "source": []
  },
  {
   "cell_type": "code",
   "execution_count": null,
   "metadata": {},
   "outputs": [],
   "source": []
  },
  {
   "cell_type": "code",
   "execution_count": null,
   "metadata": {},
   "outputs": [],
   "source": []
  },
  {
   "cell_type": "code",
   "execution_count": null,
   "metadata": {},
   "outputs": [],
   "source": []
  }
 ],
 "metadata": {
  "kernelspec": {
   "display_name": "Python 3",
   "language": "python",
   "name": "python3"
  },
  "language_info": {
   "codemirror_mode": {
    "name": "ipython",
    "version": 3
   },
   "file_extension": ".py",
   "mimetype": "text/x-python",
   "name": "python",
   "nbconvert_exporter": "python",
   "pygments_lexer": "ipython3",
   "version": "3.7.2"
  }
 },
 "nbformat": 4,
 "nbformat_minor": 2
}
